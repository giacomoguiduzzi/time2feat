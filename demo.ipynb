{
  "nbformat": 4,
  "nbformat_minor": 0,
  "metadata": {
    "colab": {
      "name": "demo.ipynb",
      "provenance": [],
      "collapsed_sections": []
    },
    "kernelspec": {
      "name": "python3",
      "display_name": "Python 3"
    },
    "language_info": {
      "name": "python"
    }
  },
  "cells": [
    {
      "cell_type": "markdown",
      "source": [
        "# Getting started with **Time2Feat**\n",
        "\n",
        "Note: you can run **[this notebook live in Google Colab](https://colab.research.google.com/github/softlab-unimore/time2feat/blob/master/demo.ipynb)**"
      ],
      "metadata": {
        "id": "s9Jz055QPelQ"
      }
    },
    {
      "cell_type": "markdown",
      "source": [
        "Clone **time2feat** code in Colab environments\n",
        "\n",
        "Remeber to **🔴RESTART RUNTIME ON COLAB**❗🔴"
      ],
      "metadata": {
        "id": "eC8W7jXEV0qN"
      }
    },
    {
      "cell_type": "code",
      "execution_count": 1,
      "metadata": {
        "id": "CUMbxNBohGKn",
        "colab": {
          "base_uri": "https://localhost:8080/"
        },
        "outputId": "a3acdb9b-93a4-4802-a596-91948a3450d2"
      },
      "outputs": [
        {
          "output_type": "stream",
          "name": "stdout",
          "text": [
            "\u001b[K     |████████████████████████████████| 97 kB 3.4 MB/s \n",
            "\u001b[K     |████████████████████████████████| 837 kB 48.0 MB/s \n",
            "\u001b[K     |████████████████████████████████| 1.1 MB 50.8 MB/s \n",
            "\u001b[K     |████████████████████████████████| 9.8 MB 40.0 MB/s \n",
            "\u001b[K     |████████████████████████████████| 136 kB 44.5 MB/s \n",
            "\u001b[K     |████████████████████████████████| 136 kB 42.9 MB/s \n",
            "\u001b[K     |████████████████████████████████| 830 kB 9.1 MB/s \n",
            "\u001b[K     |████████████████████████████████| 822 kB 45.2 MB/s \n",
            "\u001b[K     |████████████████████████████████| 802 kB 48.1 MB/s \n",
            "\u001b[K     |████████████████████████████████| 802 kB 42.5 MB/s \n",
            "\u001b[K     |████████████████████████████████| 793 kB 44.7 MB/s \n",
            "\u001b[K     |████████████████████████████████| 793 kB 45.9 MB/s \n",
            "\u001b[K     |████████████████████████████████| 791 kB 44.2 MB/s \n",
            "\u001b[K     |████████████████████████████████| 786 kB 47.9 MB/s \n",
            "\u001b[K     |████████████████████████████████| 779 kB 39.7 MB/s \n",
            "\u001b[K     |████████████████████████████████| 778 kB 52.7 MB/s \n",
            "\u001b[K     |████████████████████████████████| 776 kB 49.4 MB/s \n",
            "\u001b[K     |████████████████████████████████| 769 kB 45.2 MB/s \n",
            "\u001b[K     |████████████████████████████████| 766 kB 24.9 MB/s \n",
            "\u001b[K     |████████████████████████████████| 1.0 MB 46.6 MB/s \n",
            "\u001b[K     |████████████████████████████████| 722 kB 30.2 MB/s \n",
            "\u001b[K     |████████████████████████████████| 722 kB 53.7 MB/s \n",
            "\u001b[K     |████████████████████████████████| 715 kB 39.0 MB/s \n",
            "\u001b[K     |████████████████████████████████| 705 kB 51.3 MB/s \n",
            "\u001b[K     |████████████████████████████████| 699 kB 48.0 MB/s \n",
            "\u001b[K     |████████████████████████████████| 696 kB 40.5 MB/s \n",
            "\u001b[K     |████████████████████████████████| 684 kB 42.0 MB/s \n",
            "\u001b[K     |████████████████████████████████| 679 kB 51.4 MB/s \n",
            "\u001b[K     |████████████████████████████████| 675 kB 52.3 MB/s \n",
            "\u001b[K     |████████████████████████████████| 675 kB 51.5 MB/s \n",
            "\u001b[K     |████████████████████████████████| 672 kB 61.3 MB/s \n",
            "\u001b[K     |████████████████████████████████| 671 kB 52.6 MB/s \n",
            "\u001b[K     |████████████████████████████████| 669 kB 58.6 MB/s \n",
            "\u001b[K     |████████████████████████████████| 656 kB 51.8 MB/s \n",
            "\u001b[K     |████████████████████████████████| 1.3 MB 51.8 MB/s \n",
            "\u001b[K     |████████████████████████████████| 3.3 MB 37.7 MB/s \n",
            "\u001b[K     |████████████████████████████████| 38.1 MB 1.3 MB/s \n",
            "\u001b[K     |████████████████████████████████| 34.5 MB 1.3 MB/s \n",
            "\u001b[31mERROR: pip's dependency resolver does not currently take into account all the packages that are installed. This behaviour is the source of the following dependency conflicts.\n",
            "tensorflow 2.8.0 requires tf-estimator-nightly==2.8.0.dev2021122109, which is not installed.\n",
            "tensorflow-metadata 1.7.0 requires protobuf<4,>=3.13, but you have protobuf 3.11.2 which is incompatible.\n",
            "gym 0.17.3 requires cloudpickle<1.7.0,>=1.2.0, but you have cloudpickle 2.0.0 which is incompatible.\n",
            "googleapis-common-protos 1.56.0 requires protobuf>=3.12.0, but you have protobuf 3.11.2 which is incompatible.\n",
            "google-api-core 1.31.5 requires protobuf>=3.12.0; python_version > \"3\", but you have protobuf 3.11.2 which is incompatible.\n",
            "albumentations 0.1.12 requires imgaug<0.2.7,>=0.2.5, but you have imgaug 0.2.9 which is incompatible.\u001b[0m\n",
            "\u001b[?25h"
          ]
        }
      ],
      "source": [
        "!git clone --quiet https://github.com/softlab-unimore/time2feat.git\n",
        "!pip install -q -r time2feat/requirements.txt"
      ]
    },
    {
      "cell_type": "markdown",
      "source": [
        "**🔴RESTART RUNTIME ON COLAB**❗🔴"
      ],
      "metadata": {
        "id": "56oM5hpEJJ1S"
      }
    },
    {
      "cell_type": "markdown",
      "source": [
        "Import standard libraries"
      ],
      "metadata": {
        "id": "qIvJ6T_JWBFb"
      }
    },
    {
      "cell_type": "code",
      "source": [
        "import os\n",
        "import sys\n",
        "import numpy as np\n",
        "from sklearn.model_selection import train_test_split\n",
        "from sklearn.metrics import adjusted_mutual_info_score"
      ],
      "metadata": {
        "id": "sQUKBPkWWV2P"
      },
      "execution_count": 1,
      "outputs": []
    },
    {
      "cell_type": "markdown",
      "source": [
        "Import **time2feat** functions"
      ],
      "metadata": {
        "id": "Udr8WodnWeR1"
      }
    },
    {
      "cell_type": "code",
      "source": [
        "sys.path.append('./time2feat')"
      ],
      "metadata": {
        "id": "S-CsSnFSWcac"
      },
      "execution_count": 2,
      "outputs": []
    },
    {
      "cell_type": "code",
      "source": [
        "from t2f.dataset import read_ucr_dataset\n",
        "from t2f.extractor import feature_extraction\n",
        "from t2f.importance import feature_selection\n",
        "from t2f.clustering import ClusterWrapper"
      ],
      "metadata": {
        "id": "3T1LHxmTVriE"
      },
      "execution_count": 3,
      "outputs": []
    },
    {
      "cell_type": "markdown",
      "source": [
        "### Params"
      ],
      "metadata": {
        "id": "PgsYDa8ZKNYU"
      }
    },
    {
      "cell_type": "code",
      "source": [
        "# Input and output folder\n",
        "data_dir = 'time2feat/data/Cricket'\n",
        "\n",
        "# Model params\n",
        "transform_type = 'minmax'\n",
        "model_type = 'Hierarchical'\n",
        "\n",
        "# Performance params\n",
        "train_size = 0\n",
        "batch_size = 500\n",
        "p = 1"
      ],
      "metadata": {
        "id": "5Y-vKwmcKPp-"
      },
      "execution_count": 4,
      "outputs": []
    },
    {
      "cell_type": "code",
      "source": [
        "# Simple consistency check\n",
        "if not os.path.isdir(data_dir) or not os.path.isdir(output_dir):\n",
        "  raise ValueError('Dataset and/or output folder don\\'t exist')\n",
        "\n",
        "if train_size < 0 or train_size > 1:\n",
        "    raise ValueError('Train size must be between 0 and 1')"
      ],
      "metadata": {
        "id": "mKBllWgkKi5R"
      },
      "execution_count": null,
      "outputs": []
    },
    {
      "cell_type": "markdown",
      "source": [
        "### Read dataset"
      ],
      "metadata": {
        "id": "DIRwsQVVKkew"
      }
    },
    {
      "cell_type": "code",
      "source": [
        "print('Read ucr dataset: ', data_dir)\n",
        "ts_list, y_true = read_ucr_dataset(path=data_dir)\n",
        "n_clusters = len(set(y_true))  # Get number of clusters to find\n",
        "\n",
        "print('Dataset shape: {}, Num of clusters: {}'.format(ts_list.shape, n_clusters))\n",
        "\n",
        "labels = {}\n",
        "if train_size > 0:\n",
        "    # Extract a subset of labelled mts to train the semi-supervised model\n",
        "    idx_train, _, y_train, _ = train_test_split(np.arange(len(ts_list)), y_true, train_size=train_size)\n",
        "    labels = {i: j for i, j in zip(idx_train, y_train)}\n",
        "    print('Number of Labels: {}'.format(len(labels)))"
      ],
      "metadata": {
        "colab": {
          "base_uri": "https://localhost:8080/"
        },
        "id": "HZIBIz3_KodK",
        "outputId": "e8fb08c2-16bd-4d78-b1ea-28f7b9175f1a"
      },
      "execution_count": 5,
      "outputs": [
        {
          "output_type": "stream",
          "name": "stdout",
          "text": [
            "Read ucr dataset:  time2feat/data/Cricket\n",
            "Dataset shape: (180, 1197, 6), Num of clusters: 12\n"
          ]
        }
      ]
    },
    {
      "cell_type": "markdown",
      "source": [
        "### Feature extraction"
      ],
      "metadata": {
        "id": "Or_TWE65Kx88"
      }
    },
    {
      "cell_type": "code",
      "source": [
        "print('Feature extraction')\n",
        "df_features = feature_extraction(ts_list, batch_size, p)\n",
        "print('Number of extracted features: {}'.format(df_features.shape[1]))"
      ],
      "metadata": {
        "colab": {
          "base_uri": "https://localhost:8080/"
        },
        "id": "4EcGQjeVK16t",
        "outputId": "78421dd9-c5b5-4a18-8f54-1e2b07fe98e8"
      },
      "execution_count": 6,
      "outputs": [
        {
          "output_type": "stream",
          "name": "stdout",
          "text": [
            "Feature extraction\n"
          ]
        },
        {
          "output_type": "stream",
          "name": "stderr",
          "text": [
            "Feature Extraction: 100%|██████████| 1080/1080 [29:36<00:00,  1.64s/it]\n"
          ]
        },
        {
          "output_type": "stream",
          "name": "stdout",
          "text": [
            "Number of extracted features: 4854\n"
          ]
        }
      ]
    },
    {
      "cell_type": "markdown",
      "source": [
        "### Feature selection"
      ],
      "metadata": {
        "id": "lnRfykANK2NP"
      }
    },
    {
      "cell_type": "code",
      "source": [
        "print('Feature selection')\n",
        "context = {'model_type': model_type, 'transform_type': transform_type}\n",
        "top_features = feature_selection(df_features, labels, context)\n",
        "df_features = df_features[top_features]\n",
        "print('Number of selected features: {}'.format(df_features.shape[1]))"
      ],
      "metadata": {
        "colab": {
          "base_uri": "https://localhost:8080/"
        },
        "id": "v5OlF97wK4q5",
        "outputId": "e692681e-dccc-4963-aa64-1b440b6b6453"
      },
      "execution_count": 7,
      "outputs": [
        {
          "output_type": "stream",
          "name": "stdout",
          "text": [
            "Feature selection\n",
            "Number of selected features: 116\n"
          ]
        }
      ]
    },
    {
      "cell_type": "markdown",
      "source": [
        "### Clustering"
      ],
      "metadata": {
        "id": "soI5h-AoK45-"
      }
    },
    {
      "cell_type": "code",
      "source": [
        "print('Clustering')\n",
        "model = ClusterWrapper(n_clusters=n_clusters, model_type=model_type, transform_type=transform_type)\n",
        "y_pred = model.fit_predict(df_features.values)\n",
        "\n",
        "print('AMI: {:0.4f}'.format(adjusted_mutual_info_score(y_true, y_pred)))"
      ],
      "metadata": {
        "colab": {
          "base_uri": "https://localhost:8080/"
        },
        "id": "9TccNrpgWMKr",
        "outputId": "eb416bbe-38e3-4d9c-a6b2-d6039c4e1895"
      },
      "execution_count": 9,
      "outputs": [
        {
          "output_type": "stream",
          "name": "stdout",
          "text": [
            "Clustering\n",
            "AMI: 0.9312\n"
          ]
        }
      ]
    },
    {
      "cell_type": "code",
      "source": [
        ""
      ],
      "metadata": {
        "id": "zoRFZCqwK_NK"
      },
      "execution_count": null,
      "outputs": []
    }
  ]
}